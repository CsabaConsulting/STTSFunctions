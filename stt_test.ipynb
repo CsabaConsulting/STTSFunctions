{
 "cells": [
  {
   "cell_type": "code",
   "execution_count": 1,
   "id": "0baef52b-39f3-4204-b7a6-b90ee7087e3e",
   "metadata": {
    "tags": []
   },
   "outputs": [],
   "source": [
    "\"\"\"Synthesizes speech from the input string of text or ssml.\n",
    "Make sure to be working in a virtual environment.\n",
    "\n",
    "Note: ssml must be well-formed according to:\n",
    "    https://www.w3.org/TR/speech-synthesis/\n",
    "\"\"\"\n",
    "from google.cloud import texttospeech"
   ]
  },
  {
   "cell_type": "code",
   "execution_count": 2,
   "id": "702ed306-197d-4af8-9e33-fcd22534a7a2",
   "metadata": {
    "tags": []
   },
   "outputs": [],
   "source": [
    "# Instantiates a client\n",
    "client = texttospeech.TextToSpeechClient()"
   ]
  },
  {
   "cell_type": "code",
   "execution_count": 3,
   "id": "e773b515-5dc3-4480-aaec-be50f0a67041",
   "metadata": {
    "tags": []
   },
   "outputs": [],
   "source": [
    "# Set the text input to be synthesized\n",
    "synthesis_input = texttospeech.SynthesisInput(text=\"Hello world, hello world, hello world, hello world!\")"
   ]
  },
  {
   "cell_type": "code",
   "execution_count": 4,
   "id": "dd7f9191-fbc2-43e8-b708-b615cca1d4ad",
   "metadata": {
    "tags": []
   },
   "outputs": [],
   "source": [
    "# Build the voice request, select the language code (\"en-US\") and the ssml\n",
    "# voice gender (\"neutral\")\n",
    "voice = texttospeech.VoiceSelectionParams(\n",
    "    language_code=\"en-US\", ssml_gender=texttospeech.SsmlVoiceGender.NEUTRAL\n",
    ")"
   ]
  },
  {
   "cell_type": "code",
   "execution_count": 33,
   "id": "9b9bcfb3-39d1-4e13-9fbb-f0e81c87e86c",
   "metadata": {
    "tags": []
   },
   "outputs": [],
   "source": [
    "# Select the type of audio file you want returned\n",
    "audio_config = texttospeech.AudioConfig(\n",
    "    # audio_encoding=texttospeech.AudioEncoding.MP3,\n",
    "    # audio_encoding=texttospeech.AudioEncoding.OGG_OPUS,\n",
    "    # audio_encoding=texttospeech.AudioEncoding.MULAW,\n",
    "    # audio_encoding=texttospeech.AudioEncoding.ALAW,\n",
    "    audio_encoding=texttospeech.AudioEncoding.LINEAR16,\n",
    ")"
   ]
  },
  {
   "cell_type": "code",
   "execution_count": 14,
   "id": "301fcf92-ca18-40ed-b06a-081e1f6ffdb2",
   "metadata": {
    "tags": []
   },
   "outputs": [
    {
     "name": "stdout",
     "output_type": "stream",
     "text": [
      "['AUDIO_ENCODING_UNSPECIFIED', 'LINEAR16', 'MP3', 'OGG_OPUS', 'MULAW', 'ALAW']\n"
     ]
    }
   ],
   "source": [
    "print(list(map(lambda c: c.name, texttospeech.AudioEncoding)))"
   ]
  },
  {
   "cell_type": "code",
   "execution_count": 34,
   "id": "7b92b324-f72b-4467-b4b2-2e7e385e86f1",
   "metadata": {
    "tags": []
   },
   "outputs": [],
   "source": [
    "# Perform the text-to-speech request on the text input with the selected\n",
    "# voice parameters and audio file type\n",
    "response = client.synthesize_speech(\n",
    "    input=synthesis_input, voice=voice, audio_config=audio_config\n",
    ")"
   ]
  },
  {
   "cell_type": "code",
   "execution_count": 35,
   "id": "d53d9c7c-3f6f-454e-88e2-5d4d320655c8",
   "metadata": {
    "tags": []
   },
   "outputs": [
    {
     "name": "stdout",
     "output_type": "stream",
     "text": [
      "Audio content written to file \"output.wav\"\n"
     ]
    }
   ],
   "source": [
    "# The response's audio_content is binary.\n",
    "with open(\"output.wav\", \"wb\") as out:\n",
    "    # Write the response to the output file.\n",
    "    out.write(response.audio_content)\n",
    "    print('Audio content written to file \"output.wav\"')"
   ]
  }
 ],
 "metadata": {
  "kernelspec": {
   "display_name": "Python 3 (ipykernel)",
   "language": "python",
   "name": "python3"
  },
  "language_info": {
   "codemirror_mode": {
    "name": "ipython",
    "version": 3
   },
   "file_extension": ".py",
   "mimetype": "text/x-python",
   "name": "python",
   "nbconvert_exporter": "python",
   "pygments_lexer": "ipython3",
   "version": "3.9.13"
  }
 },
 "nbformat": 4,
 "nbformat_minor": 5
}
