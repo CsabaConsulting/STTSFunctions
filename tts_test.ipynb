{
 "cells": [
  {
   "cell_type": "code",
   "execution_count": 1,
   "id": "0baef52b-39f3-4204-b7a6-b90ee7087e3e",
   "metadata": {
    "tags": []
   },
   "outputs": [],
   "source": [
    "import gzip\n",
    "\n",
    "from google.api_core.client_options import ClientOptions\n",
    "from google.cloud.speech_v2 import SpeechClient\n",
    "from google.cloud.speech_v2.types import cloud_speech"
   ]
  },
  {
   "cell_type": "code",
   "execution_count": 8,
   "id": "68209de7-7e78-4f1f-b5c8-f4ad4f5b8ce8",
   "metadata": {
    "tags": []
   },
   "outputs": [],
   "source": [
    "f = gzip.open('output_pcm16.wav.gz', 'rb')\n",
    "audio_bytes = f.read()"
   ]
  },
  {
   "cell_type": "code",
   "execution_count": 4,
   "id": "8f65431a-ff4b-4f32-a069-6864748bb9de",
   "metadata": {
    "tags": []
   },
   "outputs": [],
   "source": [
    "region = \"us-central1\"\n",
    "project_id = \"duet-ai-roadshow-415022\""
   ]
  },
  {
   "cell_type": "code",
   "execution_count": 5,
   "id": "c0a71ba9-b1cc-44d1-a1b8-1ddc38eac3ce",
   "metadata": {
    "tags": []
   },
   "outputs": [],
   "source": [
    "# Instantiates a client\n",
    "client = SpeechClient(\n",
    "    client_options=ClientOptions(\n",
    "        api_endpoint=f\"{region}-speech.googleapis.com\",\n",
    "    )\n",
    ")"
   ]
  },
  {
   "cell_type": "code",
   "execution_count": 6,
   "id": "c27faab9-d1fe-428e-a9ca-bf40e0fb72e3",
   "metadata": {
    "tags": []
   },
   "outputs": [],
   "source": [
    "config = cloud_speech.RecognitionConfig(\n",
    "    auto_decoding_config=cloud_speech.AutoDetectDecodingConfig(),\n",
    "    language_codes=[\"auto\"],  # Set language code to auto to detect language.\n",
    "    model=\"chirp\",\n",
    ")"
   ]
  },
  {
   "cell_type": "code",
   "execution_count": 9,
   "id": "7e461b59-b9a8-4b5c-aa3f-d3290c251235",
   "metadata": {
    "tags": []
   },
   "outputs": [],
   "source": [
    "request = cloud_speech.RecognizeRequest(\n",
    "    recognizer=f\"projects/{project_id}/locations/{region}/recognizers/_\",\n",
    "    config=config,\n",
    "    content=audio_bytes,\n",
    ")"
   ]
  },
  {
   "cell_type": "code",
   "execution_count": 10,
   "id": "445d0ea2-d193-4468-8dfd-22cd63318df6",
   "metadata": {
    "tags": []
   },
   "outputs": [],
   "source": [
    "# Transcribes the audio into text\n",
    "response = client.recognize(request=request)"
   ]
  },
  {
   "cell_type": "code",
   "execution_count": 12,
   "id": "ca6df70b-8e71-4213-b7e6-a8de6cd18648",
   "metadata": {
    "tags": []
   },
   "outputs": [
    {
     "data": {
      "text/plain": [
       "[{'transcript': ' hello world hello world hello world hello world',\n",
       "  'language': 'en'}]"
      ]
     },
     "execution_count": 12,
     "metadata": {},
     "output_type": "execute_result"
    }
   ],
   "source": [
    "transcripts = []\n",
    "for result in response.results:\n",
    "    transcripts.append(\n",
    "        dict(\n",
    "            transcript=result.alternatives[0].transcript,\n",
    "            language=result.language_code,\n",
    "        )\n",
    "    )\n",
    "\n",
    "transcripts"
   ]
  }
 ],
 "metadata": {
  "kernelspec": {
   "display_name": "Python 3 (ipykernel)",
   "language": "python",
   "name": "python3"
  },
  "language_info": {
   "codemirror_mode": {
    "name": "ipython",
    "version": 3
   },
   "file_extension": ".py",
   "mimetype": "text/x-python",
   "name": "python",
   "nbconvert_exporter": "python",
   "pygments_lexer": "ipython3",
   "version": "3.9.13"
  }
 },
 "nbformat": 4,
 "nbformat_minor": 5
}
